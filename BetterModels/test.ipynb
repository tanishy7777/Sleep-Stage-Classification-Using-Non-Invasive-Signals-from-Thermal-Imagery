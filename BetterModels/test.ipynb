{
 "cells": [
  {
   "cell_type": "code",
   "execution_count": 2,
   "metadata": {},
   "outputs": [],
   "source": [
    "def f2(x1, x2):\n",
    "    print((x1*121+x2*627)/(121+627))\n",
    "\n",
    "def f3(x1, x2, x3):\n",
    "    print((x1*121+x2*155+x3*472)/(121+155+472))\n",
    "\n",
    "def f4(x1, x2, x3, x4):\n",
    "    print((x1*121+x2*155+x3*385+x4*87)/(121+155+385+87))\n",
    "\n",
    "def f6(x1, x2, x3, x4, x5, x6):\n",
    "    print((x1*121+x2*155+x3*213+x4*172+x5*29+x6*58)/(121+155+213+172+29+58))"
   ]
  },
  {
   "cell_type": "code",
   "execution_count": 20,
   "metadata": {},
   "outputs": [
    {
     "name": "stdout",
     "output_type": "stream",
     "text": [
      "0.2627794117647059\n",
      "0.4808449197860962\n",
      "0.5858596256684492\n",
      "0.929171102661597\n"
     ]
    }
   ],
   "source": [
    "f2(0.956, 0.129)\n",
    "f3(0.933, 0.977, 0.202)\n",
    "f4(0.917, 0.966, 0.239, 0.983)\n",
    "f6(0.819, 0.933, 0.958, 0.409, 1, 0.977)"
   ]
  },
  {
   "cell_type": "code",
   "execution_count": null,
   "metadata": {},
   "outputs": [
    {
     "name": "stdout",
     "output_type": "stream",
     "text": [
      "0.7794411764705883\n",
      "0.7849010695187165\n",
      "0.8107205882352941\n"
     ]
    }
   ],
   "source": [
    "f2(0.932, 0.750)\n",
    "f3(0.922, 0.976, 0.687)\n",
    "f4(0.918, 0.977, 0.670, 0.988)\n"
   ]
  },
  {
   "cell_type": "code",
   "execution_count": 17,
   "metadata": {},
   "outputs": [
    {
     "name": "stdout",
     "output_type": "stream",
     "text": [
      "0.8239264705882353\n",
      "0.8341871657754011\n",
      "0.8531711229946525\n"
     ]
    }
   ],
   "source": [
    "f2(0.922, 0.805)\n",
    "f3(0.917, 0.965, 0.770)\n",
    "f4(0.914, 0.964, 0.761, 0.979)"
   ]
  },
  {
   "cell_type": "code",
   "execution_count": 18,
   "metadata": {},
   "outputs": [
    {
     "name": "stdout",
     "output_type": "stream",
     "text": [
      "0.32552941176470584\n",
      "0.5187954545454545\n",
      "0.6174893048128343\n"
     ]
    }
   ],
   "source": [
    "f2(0.919, 0.211)\n",
    "f3(0.902, 0.959, 0.276)\n",
    "f4(0.883, 0.948, 0.322, 0.967)"
   ]
  },
  {
   "cell_type": "code",
   "execution_count": 21,
   "metadata": {},
   "outputs": [
    {
     "name": "stdout",
     "output_type": "stream",
     "text": [
      "0.9432192648922687\n"
     ]
    }
   ],
   "source": [
    "f6(0.889, 0.957, 0.946, 0.767, 1, 0.976)"
   ]
  },
  {
   "cell_type": "code",
   "execution_count": 4,
   "metadata": {},
   "outputs": [
    {
     "name": "stdout",
     "output_type": "stream",
     "text": [
      "0.5946029411764706\n",
      "0.6538141711229947\n",
      "0.6746871657754011\n"
     ]
    }
   ],
   "source": [
    "# 5 channels\n",
    "f2(0.919, 0.532)\n",
    "f3(0.902, 0.965, 0.488)\n",
    "f4(0.893, 0.953, 0.423, 0.989)"
   ]
  },
  {
   "cell_type": "code",
   "execution_count": 5,
   "metadata": {},
   "outputs": [
    {
     "name": "stdout",
     "output_type": "stream",
     "text": [
      "0.4521911764705882\n",
      "0.5342727272727272\n",
      "0.6001283422459892\n"
     ]
    }
   ],
   "source": [
    "f2(0.961, 0.354)\n",
    "f3(0.949, 0.997, 0.276)\n",
    "f4(0.937, 0.994, 0.246, 0.997)"
   ]
  },
  {
   "cell_type": "code",
   "execution_count": 6,
   "metadata": {},
   "outputs": [
    {
     "name": "stdout",
     "output_type": "stream",
     "text": [
      "0.58875\n"
     ]
    }
   ],
   "source": [
    "f2(0.945, 0.52)"
   ]
  },
  {
   "cell_type": "code",
   "execution_count": 9,
   "metadata": {},
   "outputs": [
    {
     "name": "stdout",
     "output_type": "stream",
     "text": [
      "0.581985294117647\n"
     ]
    }
   ],
   "source": [
    "f2(0.955, 0.51)"
   ]
  },
  {
   "cell_type": "code",
   "execution_count": 5,
   "metadata": {},
   "outputs": [
    {
     "name": "stdout",
     "output_type": "stream",
     "text": [
      "0.7296176470588234\n",
      "0.7763983957219253\n",
      "0.7899438502673798\n"
     ]
    }
   ],
   "source": [
    "f2(0.738, 0.728)\n",
    "f3(0.772, 0.778, 0.777)\n",
    "f4(0.788, 0.795, 0.758, 0.925)"
   ]
  },
  {
   "cell_type": "code",
   "execution_count": null,
   "metadata": {},
   "outputs": [],
   "source": []
  }
 ],
 "metadata": {
  "kernelspec": {
   "display_name": ".venv",
   "language": "python",
   "name": "python3"
  },
  "language_info": {
   "codemirror_mode": {
    "name": "ipython",
    "version": 3
   },
   "file_extension": ".py",
   "mimetype": "text/x-python",
   "name": "python",
   "nbconvert_exporter": "python",
   "pygments_lexer": "ipython3",
   "version": "3.10.11"
  }
 },
 "nbformat": 4,
 "nbformat_minor": 2
}
