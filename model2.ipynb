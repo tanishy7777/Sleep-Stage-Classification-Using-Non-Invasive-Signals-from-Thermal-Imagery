{
 "cells": [
  {
   "cell_type": "code",
   "execution_count": 2,
   "metadata": {},
   "outputs": [
    {
     "name": "stdout",
     "output_type": "stream",
     "text": [
      "\n",
      "\n",
      "File 2 has 14 signals \n",
      "samples [nasal, ribcage] [179760, 179760] \n",
      "sampling rate [nasal, ribcage] [8.0, 8.0] \n",
      "no of sleep stages 749.0 749.0 \n",
      "Sleep stages:  748\n",
      "\n",
      "\n",
      "File 3 has 14 signals \n",
      "samples [nasal, ribcage] [211824, 211824] \n",
      "sampling rate [nasal, ribcage] [8.0, 8.0] \n",
      "no of sleep stages 882.6 882.6 \n",
      "Sleep stages:  882\n",
      "Error in file 4\n",
      "\n",
      "\n",
      "File 5 has 14 signals \n",
      "samples [nasal, ribcage] [198384, 198384] \n",
      "sampling rate [nasal, ribcage] [8.0, 8.0] \n",
      "no of sleep stages 826.6 826.6 \n",
      "Sleep stages:  826\n",
      "\n",
      "\n",
      "File 6 has 14 signals \n",
      "samples [nasal, ribcage] [194136, 194136] \n",
      "sampling rate [nasal, ribcage] [8.0, 8.0] \n",
      "no of sleep stages 808.9 808.9 \n",
      "Sleep stages:  808\n",
      "\n",
      "\n",
      "File 7 has 14 signals \n",
      "samples [nasal, ribcage] [195240, 195240] \n",
      "sampling rate [nasal, ribcage] [8.0, 8.0] \n",
      "no of sleep stages 813.5 813.5 \n",
      "Sleep stages:  813\n",
      "\n",
      "\n",
      "File 8 has 14 signals \n",
      "samples [nasal, ribcage] [184328, 184328] \n",
      "sampling rate [nasal, ribcage] [8.0, 8.0] \n",
      "no of sleep stages 768.0333333333333 768.0333333333333 \n",
      "Sleep stages:  768\n",
      "\n",
      "\n",
      "File 9 has 14 signals \n",
      "samples [nasal, ribcage] [222072, 222072] \n",
      "sampling rate [nasal, ribcage] [8.0, 8.0] \n",
      "no of sleep stages 925.3 925.3 \n",
      "Sleep stages:  925\n",
      "\n",
      "\n",
      "File 10 has 14 signals \n",
      "samples [nasal, ribcage] [217688, 217688] \n",
      "sampling rate [nasal, ribcage] [8.0, 8.0] \n",
      "no of sleep stages 907.0333333333333 907.0333333333333 \n",
      "Sleep stages:  907\n",
      "\n",
      "\n",
      "File 11 has 16 signals \n",
      "samples [nasal, ribcage] [216240, 216240] \n",
      "sampling rate [nasal, ribcage] [8.0, 8.0] \n",
      "no of sleep stages 901.0 901.0 \n",
      "Sleep stages:  900\n",
      "\n",
      "\n",
      "File 12 has 14 signals \n",
      "samples [nasal, ribcage] [207528, 207528] \n",
      "sampling rate [nasal, ribcage] [8.0, 8.0] \n",
      "no of sleep stages 864.7 864.7 \n",
      "Sleep stages:  864\n",
      "\n",
      "\n",
      "File 13 has 14 signals \n",
      "samples [nasal, ribcage] [194664, 194664] \n",
      "sampling rate [nasal, ribcage] [8.0, 8.0] \n",
      "no of sleep stages 811.1 811.1 \n",
      "Sleep stages:  811\n",
      "\n",
      "\n",
      "File 14 has 14 signals \n",
      "samples [nasal, ribcage] [185912, 185912] \n",
      "sampling rate [nasal, ribcage] [8.0, 8.0] \n",
      "no of sleep stages 774.6333333333333 774.6333333333333 \n",
      "Sleep stages:  774\n",
      "\n",
      "\n",
      "File 15 has 14 signals \n",
      "samples [nasal, ribcage] [219904, 219904] \n",
      "sampling rate [nasal, ribcage] [8.0, 8.0] \n",
      "no of sleep stages 916.2666666666667 916.2666666666667 \n",
      "Sleep stages:  916\n",
      "Error in file 16\n",
      "\n",
      "\n",
      "File 17 has 14 signals \n",
      "samples [nasal, ribcage] [189472, 189472] \n",
      "sampling rate [nasal, ribcage] [8.0, 8.0] \n",
      "no of sleep stages 789.4666666666667 789.4666666666667 \n",
      "Sleep stages:  789\n",
      "\n",
      "\n",
      "File 18 has 14 signals \n",
      "samples [nasal, ribcage] [197480, 197480] \n",
      "sampling rate [nasal, ribcage] [8.0, 8.0] \n",
      "no of sleep stages 822.8333333333334 822.8333333333334 \n",
      "Sleep stages:  822\n",
      "\n",
      "\n",
      "File 19 has 14 signals \n",
      "samples [nasal, ribcage] [204584, 204584] \n",
      "sampling rate [nasal, ribcage] [8.0, 8.0] \n",
      "no of sleep stages 852.4333333333333 852.4333333333333 \n",
      "Sleep stages:  852\n",
      "\n",
      "\n",
      "File 20 has 14 signals \n",
      "samples [nasal, ribcage] [180688, 180688] \n",
      "sampling rate [nasal, ribcage] [8.0, 8.0] \n",
      "no of sleep stages 752.8666666666667 752.8666666666667 \n",
      "Sleep stages:  752\n",
      "\n",
      "\n",
      "File 21 has 14 signals \n",
      "samples [nasal, ribcage] [219272, 219272] \n",
      "sampling rate [nasal, ribcage] [8.0, 8.0] \n",
      "no of sleep stages 913.6333333333333 913.6333333333333 \n",
      "Sleep stages:  913\n",
      "\n",
      "\n",
      "File 22 has 14 signals \n",
      "samples [nasal, ribcage] [189120, 189120] \n",
      "sampling rate [nasal, ribcage] [8.0, 8.0] \n",
      "no of sleep stages 788.0 788.0 \n",
      "Sleep stages:  787\n",
      "\n",
      "\n",
      "File 23 has 14 signals \n",
      "samples [nasal, ribcage] [206800, 206800] \n",
      "sampling rate [nasal, ribcage] [8.0, 8.0] \n",
      "no of sleep stages 861.6666666666666 861.6666666666666 \n",
      "Sleep stages:  861\n",
      "\n",
      "\n",
      "File 24 has 14 signals \n",
      "samples [nasal, ribcage] [218000, 218000] \n",
      "sampling rate [nasal, ribcage] [8.0, 8.0] \n",
      "no of sleep stages 908.3333333333334 908.3333333333334 \n",
      "Sleep stages:  908\n",
      "\n",
      "\n",
      "File 25 has 14 signals \n",
      "samples [nasal, ribcage] [170800, 170800] \n",
      "sampling rate [nasal, ribcage] [8.0, 8.0] \n",
      "no of sleep stages 711.6666666666666 711.6666666666666 \n",
      "Sleep stages:  711\n",
      "\n",
      "\n",
      "File 26 has 14 signals \n",
      "samples [nasal, ribcage] [201280, 201280] \n",
      "sampling rate [nasal, ribcage] [8.0, 8.0] \n",
      "no of sleep stages 838.6666666666666 838.6666666666666 \n",
      "Sleep stages:  838\n",
      "\n",
      "\n",
      "File 27 has 14 signals \n",
      "samples [nasal, ribcage] [214328, 214328] \n",
      "sampling rate [nasal, ribcage] [8.0, 8.0] \n",
      "no of sleep stages 893.0333333333333 893.0333333333333 \n",
      "Sleep stages:  893\n",
      "\n",
      "\n",
      "File 28 has 14 signals \n",
      "samples [nasal, ribcage] [173280, 173280] \n",
      "sampling rate [nasal, ribcage] [8.0, 8.0] \n",
      "no of sleep stages 722.0 722.0 \n",
      "Sleep stages:  721\n"
     ]
    }
   ],
   "source": [
    "import pyedflib\n",
    "import numpy as np\n",
    "\n",
    "def read_edf_signals(edf_file):\n",
    "    f = pyedflib.EdfReader(edf_file)\n",
    "    num_signals = f.signals_in_file\n",
    "\n",
    "\n",
    "    signals = []\n",
    "    for i in range(num_signals):\n",
    "        signal = f.readSignal(i)\n",
    "        signals.append(signal)\n",
    "\n",
    "    labels = f.getSignalLabels()\n",
    "    sampling_rates = f.getSampleFrequencies()\n",
    "\n",
    "    f.close()\n",
    "    \n",
    "    return signals, labels, sampling_rates\n",
    "\n",
    "# edf_file_path = \"./dataset/files/ucddb002.rec\"\n",
    "# signals, labels, sampling_rates = read_edf_signals(edf_file_path)\n",
    "\n",
    "# print(\"Signal labels:\", labels)\n",
    "# print(\"Sampling rates:\", sampling_rates)\n",
    "\n",
    "# print(\"First 10 samples of the first signal:\", signals[0][:10]) \n",
    "# Imp signals -> 'Flow', 'ribcage'\n",
    "\n",
    "x_list = []\n",
    "y_list = []\n",
    "\n",
    "for i in range(2, 29):\n",
    "    try:\n",
    "        if i<10:\n",
    "            sleep_stages = np.loadtxt(f\"dataset/files/ucddb00{i}_stage.txt\", dtype=int)\n",
    "            edf_file_path = f\"./dataset/files/ucddb00{i}.rec\"\n",
    "            signals, labels, sampling_rates = read_edf_signals(edf_file_path)\n",
    "        else:\n",
    "            sleep_stages = np.loadtxt(f\"dataset/files/ucddb0{i}_stage.txt\", dtype=int)\n",
    "            edf_file_path = f\"./dataset/files/ucddb0{i}.rec\"\n",
    "            signals, labels, sampling_rates = read_edf_signals(edf_file_path)\n",
    "\n",
    "        x_list.append([signals[8], signals[10]])\n",
    "        y_list.append(sleep_stages)\n",
    "    except:\n",
    "        print(f\"Error in file {i}\")\n",
    "        continue\n",
    "\n",
    "    print()\n",
    "    print()\n",
    "    print(f\"File {i} has {len(signals)} signals\", \\\n",
    "          \"\\nsamples [nasal, ribcage]\", f\"[{len(signals[8])}, {len(signals[10])}]\", \\\n",
    "          \"\\nsampling rate [nasal, ribcage]\", f\"[{sampling_rates[8]}, {sampling_rates[10]}]\",\\\n",
    "          \"\\nno of sleep stages\", len(signals[8])/(30*sampling_rates[8]), len(signals[10])/(30*sampling_rates[10]),  \\\n",
    "          \"\\nSleep stages: \", len(sleep_stages))    \n"
   ]
  },
  {
   "cell_type": "code",
   "execution_count": 3,
   "metadata": {},
   "outputs": [
    {
     "name": "stdout",
     "output_type": "stream",
     "text": [
      "(179760,) (179760,) (748,) (748, 2, 240)\n",
      "(211824,) (211824,) (882,) (882, 2, 240)\n",
      "(198384,) (198384,) (826,) (826, 2, 240)\n",
      "(194136,) (194136,) (808,) (808, 2, 240)\n",
      "(195240,) (195240,) (813,) (813, 2, 240)\n",
      "(184328,) (184328,) (768,) (768, 2, 240)\n",
      "(222072,) (222072,) (925,) (925, 2, 240)\n",
      "(217688,) (217688,) (907,) (907, 2, 240)\n",
      "(216240,) (216240,) (900,) (900, 2, 240)\n",
      "(207528,) (207528,) (864,) (864, 2, 240)\n",
      "(194664,) (194664,) (811,) (811, 2, 240)\n",
      "(185912,) (185912,) (774,) (774, 2, 240)\n",
      "(219904,) (219904,) (916,) (916, 2, 240)\n",
      "(189472,) (189472,) (789,) (789, 2, 240)\n",
      "(197480,) (197480,) (822,) (822, 2, 240)\n",
      "(204584,) (204584,) (852,) (852, 2, 240)\n",
      "(180688,) (180688,) (752,) (752, 2, 240)\n",
      "(219272,) (219272,) (913,) (913, 2, 240)\n",
      "(189120,) (189120,) (787,) (787, 2, 240)\n",
      "(206800,) (206800,) (861,) (861, 2, 240)\n",
      "(218000,) (218000,) (908,) (908, 2, 240)\n",
      "(170800,) (170800,) (711,) (711, 2, 240)\n",
      "(201280,) (201280,) (838,) (838, 2, 240)\n",
      "(214328,) (214328,) (893,) (893, 2, 240)\n",
      "(173280,) (173280,) (721,) (721, 2, 240)\n",
      "25\n"
     ]
    }
   ],
   "source": [
    "reshaped_x_list = []\n",
    "for i in range(len(x_list)):\n",
    "    array1 = np.array(x_list[i][0])\n",
    "    array2 = np.array(x_list[i][1])\n",
    "\n",
    "    truncated_array1 = array1[:len(y_list[i])*240]\n",
    "    truncated_array2 = array2[:len(y_list[i])*240]\n",
    "\n",
    "    reshaped1 = truncated_array1.reshape(-1, 240) \n",
    "    reshaped2 = truncated_array2.reshape(-1, 240) \n",
    "\n",
    "    final_array = np.stack([reshaped1, reshaped2], axis=1)\n",
    "    reshaped_x_list.append(final_array)\n",
    "\n",
    "    print(array1.shape, array2.shape, y_list[i].shape, final_array.shape)\n",
    "\n",
    "print(len(reshaped_x_list))"
   ]
  },
  {
   "cell_type": "code",
   "execution_count": 4,
   "metadata": {},
   "outputs": [],
   "source": [
    "for i in range(len(y_list)):\n",
    "    y_list[i] = y_list[i].reshape(-1, 1)"
   ]
  },
  {
   "cell_type": "code",
   "execution_count": 5,
   "metadata": {},
   "outputs": [
    {
     "data": {
      "text/plain": [
       "(748, 1)"
      ]
     },
     "execution_count": 5,
     "metadata": {},
     "output_type": "execute_result"
    }
   ],
   "source": [
    "y_list[0].shape"
   ]
  },
  {
   "cell_type": "code",
   "execution_count": 6,
   "metadata": {},
   "outputs": [],
   "source": [
    "subject_wise_data = list(zip(reshaped_x_list, y_list))\n",
    "\n",
    "binary_y_list = [] # each element is from a subject\n",
    "for i in range(len(y_list)):\n",
    "    binary_y_list.append((y_list[i] > 0).astype(int))\n",
    "\n",
    "np.unique(binary_y_list[0], return_counts=True)\n",
    "\n",
    "binary_subject_wise_data = list(zip(reshaped_x_list, binary_y_list))"
   ]
  },
  {
   "cell_type": "code",
   "execution_count": 7,
   "metadata": {},
   "outputs": [
    {
     "data": {
      "text/plain": [
       "((748, 1), (748, 2, 240))"
      ]
     },
     "execution_count": 7,
     "metadata": {},
     "output_type": "execute_result"
    }
   ],
   "source": [
    "binary_subject_wise_data[0][1].shape, binary_subject_wise_data[0][0].shape"
   ]
  },
  {
   "cell_type": "code",
   "execution_count": 8,
   "metadata": {},
   "outputs": [],
   "source": [
    "import torch\n",
    "from torch.utils.data import DataLoader, Dataset\n"
   ]
  },
  {
   "cell_type": "markdown",
   "metadata": {},
   "source": [
    "### HYPERPARAMTERS"
   ]
  },
  {
   "cell_type": "code",
   "execution_count": 9,
   "metadata": {},
   "outputs": [],
   "source": [
    "batch_size = 32"
   ]
  },
  {
   "cell_type": "code",
   "execution_count": 10,
   "metadata": {},
   "outputs": [
    {
     "name": "stdout",
     "output_type": "stream",
     "text": [
      "Requirement already satisfied: xgboost in d:\\clg_stuff\\ml project\\.venv\\lib\\site-packages (2.1.4)\n",
      "Requirement already satisfied: numpy in d:\\clg_stuff\\ml project\\.venv\\lib\\site-packages (from xgboost) (1.24.4)\n",
      "Requirement already satisfied: scipy in d:\\clg_stuff\\ml project\\.venv\\lib\\site-packages (from xgboost) (1.12.0)\n",
      "Note: you may need to restart the kernel to use updated packages.\n"
     ]
    }
   ],
   "source": [
    "%pip install xgboost"
   ]
  },
  {
   "cell_type": "markdown",
   "metadata": {},
   "source": [
    "## XG boost"
   ]
  },
  {
   "cell_type": "code",
   "execution_count": null,
   "metadata": {},
   "outputs": [
    {
     "data": {
      "text/plain": [
       "(19175,)"
      ]
     },
     "execution_count": 22,
     "metadata": {},
     "output_type": "execute_result"
    }
   ],
   "source": [
    "train_data = [x for j, x in enumerate(binary_subject_wise_data) if j != i]\n",
    "\n",
    "    # Concatenate features and labels for training\n",
    "train_labels = np.hstack([x[1].ravel() for x in train_data])\n",
    "train_labels.shape"
   ]
  },
  {
   "cell_type": "code",
   "execution_count": null,
   "metadata": {},
   "outputs": [],
   "source": [
    "train_data = [x for j, x in enumerate(binary_subject_wise_data) if j != i]\n",
    "\n",
    "# Concatenate features and labels for training\n",
    "train_features = np.vstack([x[0] for x in train_data])\n",
    "train_labels = np.vstack([x[1] for x in train_data])"
   ]
  },
  {
   "cell_type": "code",
   "execution_count": null,
   "metadata": {},
   "outputs": [
    {
     "data": {
      "text/plain": [
       "(19175, 2, 240)"
      ]
     },
     "execution_count": 30,
     "metadata": {},
     "output_type": "execute_result"
    }
   ],
   "source": [
    "train_features.shape"
   ]
  },
  {
   "cell_type": "code",
   "execution_count": null,
   "metadata": {},
   "outputs": [
    {
     "ename": "NameError",
     "evalue": "name 'train_features' is not defined",
     "output_type": "error",
     "traceback": [
      "\u001b[1;31m---------------------------------------------------------------------------\u001b[0m",
      "\u001b[1;31mNameError\u001b[0m                                 Traceback (most recent call last)",
      "Cell \u001b[1;32mIn[1], line 7\u001b[0m\n\u001b[0;32m      5\u001b[0m features_list \u001b[38;5;241m=\u001b[39m []\n\u001b[0;32m      6\u001b[0m count \u001b[38;5;241m=\u001b[39m \u001b[38;5;241m0\u001b[39m\n\u001b[1;32m----> 7\u001b[0m \u001b[38;5;28;01mfor\u001b[39;00m sample \u001b[38;5;129;01min\u001b[39;00m \u001b[43mtrain_features\u001b[49m:\n\u001b[0;32m      8\u001b[0m     features \u001b[38;5;241m=\u001b[39m []\n\u001b[0;32m      9\u001b[0m     \u001b[38;5;28;01mfor\u001b[39;00m ch \u001b[38;5;129;01min\u001b[39;00m \u001b[38;5;28mrange\u001b[39m(train_features\u001b[38;5;241m.\u001b[39mshape[\u001b[38;5;241m1\u001b[39m]):  \u001b[38;5;66;03m# Iterate over channels (2 in this case)\u001b[39;00m\n",
      "\u001b[1;31mNameError\u001b[0m: name 'train_features' is not defined"
     ]
    }
   ],
   "source": [
    "import tsfel\n",
    "\n",
    "cfg = tsfel.get_features_by_domain('temporal')  # Get all temporal features\n",
    "\n",
    "features_list = []\n",
    "count = 0\n",
    "for sample in train_features:\n",
    "    features = []\n",
    "    for ch in range(train_features.shape[1]):  # Iterate over channels (2 in this case)\n",
    "        channel_data = sample[ch]\n",
    "        if np.nan in sample or np.inf in sample:\n",
    "            count+=1\n",
    "        else:\n",
    "            X_ch = tsfel.time_series_features_extractor(cfg, sample, fs=100)\n",
    "            X_ch = np.squeeze(X_ch)\n",
    "            features.append(X_ch)\n",
    "    features_list.append(features)\n",
    "\n",
    "print(\"Final feature shape:\", features_list)  # Should be (19175, feature_count * 2)\n"
   ]
  },
  {
   "cell_type": "code",
   "execution_count": 25,
   "metadata": {},
   "outputs": [
    {
     "name": "stdout",
     "output_type": "stream",
     "text": [
      "Leave-One-Subject-Out CV - Subject: 1\n",
      "-----------------------------------\n"
     ]
    },
    {
     "name": "stderr",
     "output_type": "stream",
     "text": [
      "d:\\clg_stuff\\ML project\\.venv\\lib\\site-packages\\xgboost\\core.py:158: UserWarning: [19:42:51] WARNING: C:\\buildkite-agent\\builds\\buildkite-windows-cpu-autoscaling-group-i-08cbc0333d8d4aae1-1\\xgboost\\xgboost-ci-windows\\src\\learner.cc:740: \n",
      "Parameters: { \"use_label_encoder\" } are not used.\n",
      "\n",
      "  warnings.warn(smsg, UserWarning)\n"
     ]
    },
    {
     "name": "stdout",
     "output_type": "stream",
     "text": [
      "Test Accuracy: 0.8489\n",
      "Precision: 0.8768\n",
      "Recall (Sensitivity): 0.9537\n",
      "Specificity: 0.3058\n",
      "F1-score: 0.9137\n",
      "False Positive Rate (FPR): 0.6942\n",
      "False Negative Rate (FNR): 0.0463\n",
      "\n",
      "Test Accuracy: 0.8489\n",
      "Leave-One-Subject-Out CV - Subject: 2\n",
      "-----------------------------------\n"
     ]
    },
    {
     "name": "stderr",
     "output_type": "stream",
     "text": [
      "d:\\clg_stuff\\ML project\\.venv\\lib\\site-packages\\xgboost\\core.py:158: UserWarning: [19:42:59] WARNING: C:\\buildkite-agent\\builds\\buildkite-windows-cpu-autoscaling-group-i-08cbc0333d8d4aae1-1\\xgboost\\xgboost-ci-windows\\src\\learner.cc:740: \n",
      "Parameters: { \"use_label_encoder\" } are not used.\n",
      "\n",
      "  warnings.warn(smsg, UserWarning)\n"
     ]
    },
    {
     "name": "stdout",
     "output_type": "stream",
     "text": [
      "Test Accuracy: 0.8696\n",
      "Precision: 0.8875\n",
      "Recall (Sensitivity): 0.9608\n",
      "Specificity: 0.4821\n",
      "F1-score: 0.9227\n",
      "False Positive Rate (FPR): 0.5179\n",
      "False Negative Rate (FNR): 0.0392\n",
      "\n",
      "Test Accuracy: 0.8696\n",
      "Leave-One-Subject-Out CV - Subject: 3\n",
      "-----------------------------------\n"
     ]
    },
    {
     "name": "stderr",
     "output_type": "stream",
     "text": [
      "d:\\clg_stuff\\ML project\\.venv\\lib\\site-packages\\xgboost\\core.py:158: UserWarning: [19:43:06] WARNING: C:\\buildkite-agent\\builds\\buildkite-windows-cpu-autoscaling-group-i-08cbc0333d8d4aae1-1\\xgboost\\xgboost-ci-windows\\src\\learner.cc:740: \n",
      "Parameters: { \"use_label_encoder\" } are not used.\n",
      "\n",
      "  warnings.warn(smsg, UserWarning)\n"
     ]
    },
    {
     "name": "stdout",
     "output_type": "stream",
     "text": [
      "Test Accuracy: 0.6949\n",
      "Precision: 0.6760\n",
      "Recall (Sensitivity): 0.9845\n",
      "Specificity: 0.2104\n",
      "F1-score: 0.8016\n",
      "False Positive Rate (FPR): 0.7896\n",
      "False Negative Rate (FNR): 0.0155\n",
      "\n",
      "Test Accuracy: 0.6949\n",
      "Leave-One-Subject-Out CV - Subject: 4\n",
      "-----------------------------------\n"
     ]
    },
    {
     "name": "stderr",
     "output_type": "stream",
     "text": [
      "d:\\clg_stuff\\ML project\\.venv\\lib\\site-packages\\xgboost\\core.py:158: UserWarning: [19:43:13] WARNING: C:\\buildkite-agent\\builds\\buildkite-windows-cpu-autoscaling-group-i-08cbc0333d8d4aae1-1\\xgboost\\xgboost-ci-windows\\src\\learner.cc:740: \n",
      "Parameters: { \"use_label_encoder\" } are not used.\n",
      "\n",
      "  warnings.warn(smsg, UserWarning)\n"
     ]
    },
    {
     "name": "stdout",
     "output_type": "stream",
     "text": [
      "Test Accuracy: 0.8725\n",
      "Precision: 0.9581\n",
      "Recall (Sensitivity): 0.8953\n",
      "Specificity: 0.6957\n",
      "F1-score: 0.9256\n",
      "False Positive Rate (FPR): 0.3043\n",
      "False Negative Rate (FNR): 0.1047\n",
      "\n",
      "Test Accuracy: 0.8725\n",
      "Leave-One-Subject-Out CV - Subject: 5\n",
      "-----------------------------------\n"
     ]
    },
    {
     "name": "stderr",
     "output_type": "stream",
     "text": [
      "d:\\clg_stuff\\ML project\\.venv\\lib\\site-packages\\xgboost\\core.py:158: UserWarning: [19:43:21] WARNING: C:\\buildkite-agent\\builds\\buildkite-windows-cpu-autoscaling-group-i-08cbc0333d8d4aae1-1\\xgboost\\xgboost-ci-windows\\src\\learner.cc:740: \n",
      "Parameters: { \"use_label_encoder\" } are not used.\n",
      "\n",
      "  warnings.warn(smsg, UserWarning)\n"
     ]
    },
    {
     "name": "stdout",
     "output_type": "stream",
     "text": [
      "Test Accuracy: 0.9053\n",
      "Precision: 0.9212\n",
      "Recall (Sensitivity): 0.9781\n",
      "Specificity: 0.2738\n",
      "F1-score: 0.9488\n",
      "False Positive Rate (FPR): 0.7262\n",
      "False Negative Rate (FNR): 0.0219\n",
      "\n",
      "Test Accuracy: 0.9053\n",
      "Leave-One-Subject-Out CV - Subject: 6\n",
      "-----------------------------------\n"
     ]
    },
    {
     "name": "stderr",
     "output_type": "stream",
     "text": [
      "d:\\clg_stuff\\ML project\\.venv\\lib\\site-packages\\xgboost\\core.py:158: UserWarning: [19:43:28] WARNING: C:\\buildkite-agent\\builds\\buildkite-windows-cpu-autoscaling-group-i-08cbc0333d8d4aae1-1\\xgboost\\xgboost-ci-windows\\src\\learner.cc:740: \n",
      "Parameters: { \"use_label_encoder\" } are not used.\n",
      "\n",
      "  warnings.warn(smsg, UserWarning)\n"
     ]
    },
    {
     "name": "stdout",
     "output_type": "stream",
     "text": [
      "Test Accuracy: 0.6354\n",
      "Precision: 0.7440\n",
      "Recall (Sensitivity): 0.6792\n",
      "Specificity: 0.5513\n",
      "F1-score: 0.7101\n",
      "False Positive Rate (FPR): 0.4487\n",
      "False Negative Rate (FNR): 0.3208\n",
      "\n",
      "Test Accuracy: 0.6354\n",
      "Leave-One-Subject-Out CV - Subject: 7\n",
      "-----------------------------------\n"
     ]
    },
    {
     "name": "stderr",
     "output_type": "stream",
     "text": [
      "d:\\clg_stuff\\ML project\\.venv\\lib\\site-packages\\xgboost\\core.py:158: UserWarning: [19:43:35] WARNING: C:\\buildkite-agent\\builds\\buildkite-windows-cpu-autoscaling-group-i-08cbc0333d8d4aae1-1\\xgboost\\xgboost-ci-windows\\src\\learner.cc:740: \n",
      "Parameters: { \"use_label_encoder\" } are not used.\n",
      "\n",
      "  warnings.warn(smsg, UserWarning)\n"
     ]
    },
    {
     "name": "stdout",
     "output_type": "stream",
     "text": [
      "Test Accuracy: 0.6551\n",
      "Precision: 0.8410\n",
      "Recall (Sensitivity): 0.6980\n",
      "Specificity: 0.4895\n",
      "F1-score: 0.7628\n",
      "False Positive Rate (FPR): 0.5105\n",
      "False Negative Rate (FNR): 0.3020\n",
      "\n",
      "Test Accuracy: 0.6551\n",
      "Leave-One-Subject-Out CV - Subject: 8\n",
      "-----------------------------------\n"
     ]
    },
    {
     "name": "stderr",
     "output_type": "stream",
     "text": [
      "d:\\clg_stuff\\ML project\\.venv\\lib\\site-packages\\xgboost\\core.py:158: UserWarning: [19:43:43] WARNING: C:\\buildkite-agent\\builds\\buildkite-windows-cpu-autoscaling-group-i-08cbc0333d8d4aae1-1\\xgboost\\xgboost-ci-windows\\src\\learner.cc:740: \n",
      "Parameters: { \"use_label_encoder\" } are not used.\n",
      "\n",
      "  warnings.warn(smsg, UserWarning)\n"
     ]
    },
    {
     "name": "stdout",
     "output_type": "stream",
     "text": [
      "Test Accuracy: 0.9327\n",
      "Precision: 0.9573\n",
      "Recall (Sensitivity): 0.9700\n",
      "Specificity: 0.5135\n",
      "F1-score: 0.9636\n",
      "False Positive Rate (FPR): 0.4865\n",
      "False Negative Rate (FNR): 0.0300\n",
      "\n",
      "Test Accuracy: 0.9327\n",
      "Leave-One-Subject-Out CV - Subject: 9\n",
      "-----------------------------------\n"
     ]
    },
    {
     "name": "stderr",
     "output_type": "stream",
     "text": [
      "d:\\clg_stuff\\ML project\\.venv\\lib\\site-packages\\xgboost\\core.py:158: UserWarning: [19:43:50] WARNING: C:\\buildkite-agent\\builds\\buildkite-windows-cpu-autoscaling-group-i-08cbc0333d8d4aae1-1\\xgboost\\xgboost-ci-windows\\src\\learner.cc:740: \n",
      "Parameters: { \"use_label_encoder\" } are not used.\n",
      "\n",
      "  warnings.warn(smsg, UserWarning)\n"
     ]
    },
    {
     "name": "stdout",
     "output_type": "stream",
     "text": [
      "Test Accuracy: 0.4467\n",
      "Precision: 0.8710\n",
      "Recall (Sensitivity): 0.0993\n",
      "Specificity: 0.9775\n",
      "F1-score: 0.1782\n",
      "False Positive Rate (FPR): 0.0225\n",
      "False Negative Rate (FNR): 0.9007\n",
      "\n",
      "Test Accuracy: 0.4467\n",
      "Leave-One-Subject-Out CV - Subject: 10\n",
      "-----------------------------------\n"
     ]
    },
    {
     "name": "stderr",
     "output_type": "stream",
     "text": [
      "d:\\clg_stuff\\ML project\\.venv\\lib\\site-packages\\xgboost\\core.py:158: UserWarning: [19:43:57] WARNING: C:\\buildkite-agent\\builds\\buildkite-windows-cpu-autoscaling-group-i-08cbc0333d8d4aae1-1\\xgboost\\xgboost-ci-windows\\src\\learner.cc:740: \n",
      "Parameters: { \"use_label_encoder\" } are not used.\n",
      "\n",
      "  warnings.warn(smsg, UserWarning)\n"
     ]
    },
    {
     "name": "stdout",
     "output_type": "stream",
     "text": [
      "Test Accuracy: 0.7755\n",
      "Precision: 0.8937\n",
      "Recall (Sensitivity): 0.8354\n",
      "Specificity: 0.4341\n",
      "F1-score: 0.8636\n",
      "False Positive Rate (FPR): 0.5659\n",
      "False Negative Rate (FNR): 0.1646\n",
      "\n",
      "Test Accuracy: 0.7755\n",
      "Leave-One-Subject-Out CV - Subject: 11\n",
      "-----------------------------------\n"
     ]
    },
    {
     "name": "stderr",
     "output_type": "stream",
     "text": [
      "d:\\clg_stuff\\ML project\\.venv\\lib\\site-packages\\xgboost\\core.py:158: UserWarning: [19:44:03] WARNING: C:\\buildkite-agent\\builds\\buildkite-windows-cpu-autoscaling-group-i-08cbc0333d8d4aae1-1\\xgboost\\xgboost-ci-windows\\src\\learner.cc:740: \n",
      "Parameters: { \"use_label_encoder\" } are not used.\n",
      "\n",
      "  warnings.warn(smsg, UserWarning)\n"
     ]
    },
    {
     "name": "stdout",
     "output_type": "stream",
     "text": [
      "Test Accuracy: 0.6745\n",
      "Precision: 0.6533\n",
      "Recall (Sensitivity): 0.9919\n",
      "Specificity: 0.1798\n",
      "F1-score: 0.7878\n",
      "False Positive Rate (FPR): 0.8202\n",
      "False Negative Rate (FNR): 0.0081\n",
      "\n",
      "Test Accuracy: 0.6745\n",
      "Leave-One-Subject-Out CV - Subject: 12\n",
      "-----------------------------------\n"
     ]
    },
    {
     "name": "stderr",
     "output_type": "stream",
     "text": [
      "d:\\clg_stuff\\ML project\\.venv\\lib\\site-packages\\xgboost\\core.py:158: UserWarning: [19:44:11] WARNING: C:\\buildkite-agent\\builds\\buildkite-windows-cpu-autoscaling-group-i-08cbc0333d8d4aae1-1\\xgboost\\xgboost-ci-windows\\src\\learner.cc:740: \n",
      "Parameters: { \"use_label_encoder\" } are not used.\n",
      "\n",
      "  warnings.warn(smsg, UserWarning)\n"
     ]
    },
    {
     "name": "stdout",
     "output_type": "stream",
     "text": [
      "Test Accuracy: 0.7558\n",
      "Precision: 0.8026\n",
      "Recall (Sensitivity): 0.9146\n",
      "Specificity: 0.1697\n",
      "F1-score: 0.8550\n",
      "False Positive Rate (FPR): 0.8303\n",
      "False Negative Rate (FNR): 0.0854\n",
      "\n",
      "Test Accuracy: 0.7558\n",
      "Leave-One-Subject-Out CV - Subject: 13\n",
      "-----------------------------------\n"
     ]
    },
    {
     "name": "stderr",
     "output_type": "stream",
     "text": [
      "d:\\clg_stuff\\ML project\\.venv\\lib\\site-packages\\xgboost\\core.py:158: UserWarning: [19:44:18] WARNING: C:\\buildkite-agent\\builds\\buildkite-windows-cpu-autoscaling-group-i-08cbc0333d8d4aae1-1\\xgboost\\xgboost-ci-windows\\src\\learner.cc:740: \n",
      "Parameters: { \"use_label_encoder\" } are not used.\n",
      "\n",
      "  warnings.warn(smsg, UserWarning)\n"
     ]
    },
    {
     "name": "stdout",
     "output_type": "stream",
     "text": [
      "Test Accuracy: 0.7784\n",
      "Precision: 0.8106\n",
      "Recall (Sensitivity): 0.9308\n",
      "Specificity: 0.2596\n",
      "F1-score: 0.8665\n",
      "False Positive Rate (FPR): 0.7404\n",
      "False Negative Rate (FNR): 0.0692\n",
      "\n",
      "Test Accuracy: 0.7784\n",
      "Leave-One-Subject-Out CV - Subject: 14\n",
      "-----------------------------------\n"
     ]
    },
    {
     "name": "stderr",
     "output_type": "stream",
     "text": [
      "d:\\clg_stuff\\ML project\\.venv\\lib\\site-packages\\xgboost\\core.py:158: UserWarning: [19:44:25] WARNING: C:\\buildkite-agent\\builds\\buildkite-windows-cpu-autoscaling-group-i-08cbc0333d8d4aae1-1\\xgboost\\xgboost-ci-windows\\src\\learner.cc:740: \n",
      "Parameters: { \"use_label_encoder\" } are not used.\n",
      "\n",
      "  warnings.warn(smsg, UserWarning)\n"
     ]
    },
    {
     "name": "stdout",
     "output_type": "stream",
     "text": [
      "Test Accuracy: 0.8416\n",
      "Precision: 0.8967\n",
      "Recall (Sensitivity): 0.9242\n",
      "Specificity: 0.2913\n",
      "F1-score: 0.9103\n",
      "False Positive Rate (FPR): 0.7087\n",
      "False Negative Rate (FNR): 0.0758\n",
      "\n",
      "Test Accuracy: 0.8416\n",
      "Leave-One-Subject-Out CV - Subject: 15\n",
      "-----------------------------------\n"
     ]
    },
    {
     "name": "stderr",
     "output_type": "stream",
     "text": [
      "d:\\clg_stuff\\ML project\\.venv\\lib\\site-packages\\xgboost\\core.py:158: UserWarning: [19:44:33] WARNING: C:\\buildkite-agent\\builds\\buildkite-windows-cpu-autoscaling-group-i-08cbc0333d8d4aae1-1\\xgboost\\xgboost-ci-windows\\src\\learner.cc:740: \n",
      "Parameters: { \"use_label_encoder\" } are not used.\n",
      "\n",
      "  warnings.warn(smsg, UserWarning)\n"
     ]
    },
    {
     "name": "stdout",
     "output_type": "stream",
     "text": [
      "Test Accuracy: 0.7032\n",
      "Precision: 0.6722\n",
      "Recall (Sensitivity): 0.9879\n",
      "Specificity: 0.2744\n",
      "F1-score: 0.8000\n",
      "False Positive Rate (FPR): 0.7256\n",
      "False Negative Rate (FNR): 0.0121\n",
      "\n",
      "Test Accuracy: 0.7032\n",
      "Leave-One-Subject-Out CV - Subject: 16\n",
      "-----------------------------------\n"
     ]
    },
    {
     "name": "stderr",
     "output_type": "stream",
     "text": [
      "d:\\clg_stuff\\ML project\\.venv\\lib\\site-packages\\xgboost\\core.py:158: UserWarning: [19:44:41] WARNING: C:\\buildkite-agent\\builds\\buildkite-windows-cpu-autoscaling-group-i-08cbc0333d8d4aae1-1\\xgboost\\xgboost-ci-windows\\src\\learner.cc:740: \n",
      "Parameters: { \"use_label_encoder\" } are not used.\n",
      "\n",
      "  warnings.warn(smsg, UserWarning)\n"
     ]
    },
    {
     "name": "stdout",
     "output_type": "stream",
     "text": [
      "Test Accuracy: 0.9354\n",
      "Precision: 0.9504\n",
      "Recall (Sensitivity): 0.9808\n",
      "Specificity: 0.4366\n",
      "F1-score: 0.9653\n",
      "False Positive Rate (FPR): 0.5634\n",
      "False Negative Rate (FNR): 0.0192\n",
      "\n",
      "Test Accuracy: 0.9354\n",
      "Leave-One-Subject-Out CV - Subject: 17\n",
      "-----------------------------------\n"
     ]
    },
    {
     "name": "stderr",
     "output_type": "stream",
     "text": [
      "d:\\clg_stuff\\ML project\\.venv\\lib\\site-packages\\xgboost\\core.py:158: UserWarning: [19:44:50] WARNING: C:\\buildkite-agent\\builds\\buildkite-windows-cpu-autoscaling-group-i-08cbc0333d8d4aae1-1\\xgboost\\xgboost-ci-windows\\src\\learner.cc:740: \n",
      "Parameters: { \"use_label_encoder\" } are not used.\n",
      "\n",
      "  warnings.warn(smsg, UserWarning)\n"
     ]
    },
    {
     "name": "stdout",
     "output_type": "stream",
     "text": [
      "Test Accuracy: 0.7593\n",
      "Precision: 0.8263\n",
      "Recall (Sensitivity): 0.8731\n",
      "Specificity: 0.3669\n",
      "F1-score: 0.8490\n",
      "False Positive Rate (FPR): 0.6331\n",
      "False Negative Rate (FNR): 0.1269\n",
      "\n",
      "Test Accuracy: 0.7593\n",
      "Leave-One-Subject-Out CV - Subject: 18\n",
      "-----------------------------------\n"
     ]
    },
    {
     "name": "stderr",
     "output_type": "stream",
     "text": [
      "d:\\clg_stuff\\ML project\\.venv\\lib\\site-packages\\xgboost\\core.py:158: UserWarning: [19:44:59] WARNING: C:\\buildkite-agent\\builds\\buildkite-windows-cpu-autoscaling-group-i-08cbc0333d8d4aae1-1\\xgboost\\xgboost-ci-windows\\src\\learner.cc:740: \n",
      "Parameters: { \"use_label_encoder\" } are not used.\n",
      "\n",
      "  warnings.warn(smsg, UserWarning)\n"
     ]
    },
    {
     "name": "stdout",
     "output_type": "stream",
     "text": [
      "Test Accuracy: 0.8499\n",
      "Precision: 0.8756\n",
      "Recall (Sensitivity): 0.9518\n",
      "Specificity: 0.3916\n",
      "F1-score: 0.9121\n",
      "False Positive Rate (FPR): 0.6084\n",
      "False Negative Rate (FNR): 0.0482\n",
      "\n",
      "Test Accuracy: 0.8499\n",
      "Leave-One-Subject-Out CV - Subject: 19\n",
      "-----------------------------------\n"
     ]
    },
    {
     "name": "stderr",
     "output_type": "stream",
     "text": [
      "d:\\clg_stuff\\ML project\\.venv\\lib\\site-packages\\xgboost\\core.py:158: UserWarning: [19:45:07] WARNING: C:\\buildkite-agent\\builds\\buildkite-windows-cpu-autoscaling-group-i-08cbc0333d8d4aae1-1\\xgboost\\xgboost-ci-windows\\src\\learner.cc:740: \n",
      "Parameters: { \"use_label_encoder\" } are not used.\n",
      "\n",
      "  warnings.warn(smsg, UserWarning)\n"
     ]
    },
    {
     "name": "stdout",
     "output_type": "stream",
     "text": [
      "Test Accuracy: 0.6582\n",
      "Precision: 0.6325\n",
      "Recall (Sensitivity): 0.9913\n",
      "Specificity: 0.1896\n",
      "F1-score: 0.7722\n",
      "False Positive Rate (FPR): 0.8104\n",
      "False Negative Rate (FNR): 0.0087\n",
      "\n",
      "Test Accuracy: 0.6582\n",
      "Leave-One-Subject-Out CV - Subject: 20\n",
      "-----------------------------------\n"
     ]
    },
    {
     "name": "stderr",
     "output_type": "stream",
     "text": [
      "d:\\clg_stuff\\ML project\\.venv\\lib\\site-packages\\xgboost\\core.py:158: UserWarning: [19:45:16] WARNING: C:\\buildkite-agent\\builds\\buildkite-windows-cpu-autoscaling-group-i-08cbc0333d8d4aae1-1\\xgboost\\xgboost-ci-windows\\src\\learner.cc:740: \n",
      "Parameters: { \"use_label_encoder\" } are not used.\n",
      "\n",
      "  warnings.warn(smsg, UserWarning)\n"
     ]
    },
    {
     "name": "stdout",
     "output_type": "stream",
     "text": [
      "Test Accuracy: 0.7515\n",
      "Precision: 0.7463\n",
      "Recall (Sensitivity): 0.9551\n",
      "Specificity: 0.3333\n",
      "F1-score: 0.8379\n",
      "False Positive Rate (FPR): 0.6667\n",
      "False Negative Rate (FNR): 0.0449\n",
      "\n",
      "Test Accuracy: 0.7515\n",
      "Leave-One-Subject-Out CV - Subject: 21\n",
      "-----------------------------------\n"
     ]
    },
    {
     "name": "stderr",
     "output_type": "stream",
     "text": [
      "d:\\clg_stuff\\ML project\\.venv\\lib\\site-packages\\xgboost\\core.py:158: UserWarning: [19:45:24] WARNING: C:\\buildkite-agent\\builds\\buildkite-windows-cpu-autoscaling-group-i-08cbc0333d8d4aae1-1\\xgboost\\xgboost-ci-windows\\src\\learner.cc:740: \n",
      "Parameters: { \"use_label_encoder\" } are not used.\n",
      "\n",
      "  warnings.warn(smsg, UserWarning)\n"
     ]
    },
    {
     "name": "stdout",
     "output_type": "stream",
     "text": [
      "Test Accuracy: 0.8458\n",
      "Precision: 0.8807\n",
      "Recall (Sensitivity): 0.9416\n",
      "Specificity: 0.3806\n",
      "F1-score: 0.9101\n",
      "False Positive Rate (FPR): 0.6194\n",
      "False Negative Rate (FNR): 0.0584\n",
      "\n",
      "Test Accuracy: 0.8458\n",
      "Leave-One-Subject-Out CV - Subject: 22\n",
      "-----------------------------------\n"
     ]
    },
    {
     "name": "stderr",
     "output_type": "stream",
     "text": [
      "d:\\clg_stuff\\ML project\\.venv\\lib\\site-packages\\xgboost\\core.py:158: UserWarning: [19:45:34] WARNING: C:\\buildkite-agent\\builds\\buildkite-windows-cpu-autoscaling-group-i-08cbc0333d8d4aae1-1\\xgboost\\xgboost-ci-windows\\src\\learner.cc:740: \n",
      "Parameters: { \"use_label_encoder\" } are not used.\n",
      "\n",
      "  warnings.warn(smsg, UserWarning)\n"
     ]
    },
    {
     "name": "stdout",
     "output_type": "stream",
     "text": [
      "Test Accuracy: 0.7539\n",
      "Precision: 0.8324\n",
      "Recall (Sensitivity): 0.8522\n",
      "Specificity: 0.4233\n",
      "F1-score: 0.8422\n",
      "False Positive Rate (FPR): 0.5767\n",
      "False Negative Rate (FNR): 0.1478\n",
      "\n",
      "Test Accuracy: 0.7539\n",
      "Leave-One-Subject-Out CV - Subject: 23\n",
      "-----------------------------------\n"
     ]
    },
    {
     "name": "stderr",
     "output_type": "stream",
     "text": [
      "d:\\clg_stuff\\ML project\\.venv\\lib\\site-packages\\xgboost\\core.py:158: UserWarning: [19:45:41] WARNING: C:\\buildkite-agent\\builds\\buildkite-windows-cpu-autoscaling-group-i-08cbc0333d8d4aae1-1\\xgboost\\xgboost-ci-windows\\src\\learner.cc:740: \n",
      "Parameters: { \"use_label_encoder\" } are not used.\n",
      "\n",
      "  warnings.warn(smsg, UserWarning)\n"
     ]
    },
    {
     "name": "stdout",
     "output_type": "stream",
     "text": [
      "Test Accuracy: 0.8842\n",
      "Precision: 0.8966\n",
      "Recall (Sensitivity): 0.9793\n",
      "Specificity: 0.2679\n",
      "F1-score: 0.9361\n",
      "False Positive Rate (FPR): 0.7321\n",
      "False Negative Rate (FNR): 0.0207\n",
      "\n",
      "Test Accuracy: 0.8842\n",
      "Leave-One-Subject-Out CV - Subject: 24\n",
      "-----------------------------------\n"
     ]
    },
    {
     "name": "stderr",
     "output_type": "stream",
     "text": [
      "d:\\clg_stuff\\ML project\\.venv\\lib\\site-packages\\xgboost\\core.py:158: UserWarning: [19:45:48] WARNING: C:\\buildkite-agent\\builds\\buildkite-windows-cpu-autoscaling-group-i-08cbc0333d8d4aae1-1\\xgboost\\xgboost-ci-windows\\src\\learner.cc:740: \n",
      "Parameters: { \"use_label_encoder\" } are not used.\n",
      "\n",
      "  warnings.warn(smsg, UserWarning)\n"
     ]
    },
    {
     "name": "stdout",
     "output_type": "stream",
     "text": [
      "Test Accuracy: 0.8690\n",
      "Precision: 0.8840\n",
      "Recall (Sensitivity): 0.9752\n",
      "Specificity: 0.2283\n",
      "F1-score: 0.9274\n",
      "False Positive Rate (FPR): 0.7717\n",
      "False Negative Rate (FNR): 0.0248\n",
      "\n",
      "Test Accuracy: 0.8690\n"
     ]
    }
   ],
   "source": [
    "import xgboost as xgb\n",
    "from sklearn.metrics import accuracy_score\n",
    "import numpy as np\n",
    "from sklearn.metrics import confusion_matrix, accuracy_score, precision_score, recall_score, f1_score\n",
    "\n",
    "\n",
    "for i, data in enumerate(binary_subject_wise_data):\n",
    "    print(f\"Leave-One-Subject-Out CV - Subject: {i+1}\\n-----------------------------------\")\n",
    "    \n",
    "    # Split data: leave out the current subject for testing\n",
    "    train_data = [x for j, x in enumerate(binary_subject_wise_data) if j != i]\n",
    "    test_data = data\n",
    "\n",
    "    # Concatenate features and labels for training\n",
    "    train_features = np.vstack([x[0] for x in train_data])\n",
    "    train_labels = np.vstack([x[1] for x in train_data])\n",
    "    test_features = test_data[0]\n",
    "    test_labels = test_data[1]\n",
    "\n",
    "    X_train = train_features.reshape(-1, 2*240)\n",
    "    y_train = train_labels\n",
    "    X_test = test_features.reshape(-1, 2*240)\n",
    "    y_test = test_labels\n",
    "\n",
    "\n",
    "\n",
    "    # Train XGBoost classifier\n",
    "    model = xgb.XGBClassifier(objective=\"binary:logistic\", eval_metric=\"logloss\", use_label_encoder=False)\n",
    "    model.fit(X_train, y_train)\n",
    "\n",
    "    # Predictions\n",
    "    y_pred = model.predict(X_test)\n",
    "\n",
    "    tn, fp, fn, tp = confusion_matrix(test_labels, y_pred).ravel()\n",
    "\n",
    "    # Compute metrics\n",
    "    accuracy = (tp + tn) / (tp + tn + fp + fn)\n",
    "    precision = tp / (tp + fp) if (tp + fp) != 0 else 0\n",
    "    recall = tp / (tp + fn) if (tp + fn) != 0 else 0\n",
    "    specificity = tn / (tn + fp) if (tn + fp) != 0 else 0\n",
    "    f1 = 2 * (precision * recall) / (precision + recall) if (precision + recall) != 0 else 0\n",
    "    fpr = fp / (fp + tn) if (fp + tn) != 0 else 0\n",
    "    fnr = fn / (tp + fn) if (tp + fn) != 0 else 0\n",
    "\n",
    "    print(f\"Test Accuracy: {accuracy:.4f}\")\n",
    "    print(f\"Precision: {precision:.4f}\")\n",
    "    print(f\"Recall (Sensitivity): {recall:.4f}\")\n",
    "    print(f\"Specificity: {specificity:.4f}\")\n",
    "    print(f\"F1-score: {f1:.4f}\")\n",
    "    print(f\"False Positive Rate (FPR): {fpr:.4f}\")\n",
    "    print(f\"False Negative Rate (FNR): {fnr:.4f}\\n\")\n",
    "\n",
    "    # Accuracy\n",
    "    accuracy = accuracy_score(y_test, y_pred)\n",
    "    print(f\"Test Accuracy: {accuracy:.4f}\")"
   ]
  },
  {
   "cell_type": "code",
   "execution_count": 12,
   "metadata": {},
   "outputs": [
    {
     "name": "stdout",
     "output_type": "stream",
     "text": [
      "Leave-One-Subject-Out CV - Subject: 1\n",
      "-----------------------------------\n",
      "Train shape: (19993, 1440), Test shape: (746, 1440)\n"
     ]
    },
    {
     "name": "stderr",
     "output_type": "stream",
     "text": [
      "d:\\clg_stuff\\ML project\\.venv\\lib\\site-packages\\xgboost\\core.py:158: UserWarning: [22:57:29] WARNING: C:\\buildkite-agent\\builds\\buildkite-windows-cpu-autoscaling-group-i-08cbc0333d8d4aae1-1\\xgboost\\xgboost-ci-windows\\src\\learner.cc:740: \n",
      "Parameters: { \"use_label_encoder\" } are not used.\n",
      "\n",
      "  warnings.warn(smsg, UserWarning)\n"
     ]
    },
    {
     "name": "stdout",
     "output_type": "stream",
     "text": [
      "Test Accuracy: 0.8619\n",
      "Precision: 0.8711\n",
      "Recall (Sensitivity): 0.9809\n",
      "Specificity: 0.2353\n",
      "F1-score: 0.9227\n",
      "False Positive Rate (FPR): 0.7647\n",
      "False Negative Rate (FNR): 0.0191\n",
      "\n",
      "Test Accuracy (sklearn): 0.8619\n",
      "\n",
      "Leave-One-Subject-Out CV - Subject: 2\n",
      "-----------------------------------\n",
      "Train shape: (19859, 1440), Test shape: (880, 1440)\n"
     ]
    },
    {
     "name": "stderr",
     "output_type": "stream",
     "text": [
      "d:\\clg_stuff\\ML project\\.venv\\lib\\site-packages\\xgboost\\core.py:158: UserWarning: [22:57:54] WARNING: C:\\buildkite-agent\\builds\\buildkite-windows-cpu-autoscaling-group-i-08cbc0333d8d4aae1-1\\xgboost\\xgboost-ci-windows\\src\\learner.cc:740: \n",
      "Parameters: { \"use_label_encoder\" } are not used.\n",
      "\n",
      "  warnings.warn(smsg, UserWarning)\n"
     ]
    },
    {
     "name": "stdout",
     "output_type": "stream",
     "text": [
      "Test Accuracy: 0.8625\n",
      "Precision: 0.8568\n",
      "Recall (Sensitivity): 0.9972\n",
      "Specificity: 0.2831\n",
      "F1-score: 0.9217\n",
      "False Positive Rate (FPR): 0.7169\n",
      "False Negative Rate (FNR): 0.0028\n",
      "\n",
      "Test Accuracy (sklearn): 0.8625\n",
      "\n",
      "Leave-One-Subject-Out CV - Subject: 3\n",
      "-----------------------------------\n",
      "Train shape: (19915, 1440), Test shape: (824, 1440)\n"
     ]
    },
    {
     "name": "stderr",
     "output_type": "stream",
     "text": [
      "d:\\clg_stuff\\ML project\\.venv\\lib\\site-packages\\xgboost\\core.py:158: UserWarning: [22:58:19] WARNING: C:\\buildkite-agent\\builds\\buildkite-windows-cpu-autoscaling-group-i-08cbc0333d8d4aae1-1\\xgboost\\xgboost-ci-windows\\src\\learner.cc:740: \n",
      "Parameters: { \"use_label_encoder\" } are not used.\n",
      "\n",
      "  warnings.warn(smsg, UserWarning)\n"
     ]
    },
    {
     "name": "stdout",
     "output_type": "stream",
     "text": [
      "Test Accuracy: 0.6942\n",
      "Precision: 0.6746\n",
      "Recall (Sensitivity): 0.9903\n",
      "Specificity: 0.1954\n",
      "F1-score: 0.8025\n",
      "False Positive Rate (FPR): 0.8046\n",
      "False Negative Rate (FNR): 0.0097\n",
      "\n",
      "Test Accuracy (sklearn): 0.6942\n",
      "\n",
      "Leave-One-Subject-Out CV - Subject: 4\n",
      "-----------------------------------\n",
      "Train shape: (19933, 1440), Test shape: (806, 1440)\n"
     ]
    },
    {
     "name": "stderr",
     "output_type": "stream",
     "text": [
      "d:\\clg_stuff\\ML project\\.venv\\lib\\site-packages\\xgboost\\core.py:158: UserWarning: [22:58:44] WARNING: C:\\buildkite-agent\\builds\\buildkite-windows-cpu-autoscaling-group-i-08cbc0333d8d4aae1-1\\xgboost\\xgboost-ci-windows\\src\\learner.cc:740: \n",
      "Parameters: { \"use_label_encoder\" } are not used.\n",
      "\n",
      "  warnings.warn(smsg, UserWarning)\n"
     ]
    },
    {
     "name": "stdout",
     "output_type": "stream",
     "text": [
      "Test Accuracy: 0.8809\n",
      "Precision: 0.9441\n",
      "Recall (Sensitivity): 0.9204\n",
      "Specificity: 0.5667\n",
      "F1-score: 0.9321\n",
      "False Positive Rate (FPR): 0.4333\n",
      "False Negative Rate (FNR): 0.0796\n",
      "\n",
      "Test Accuracy (sklearn): 0.8809\n",
      "\n",
      "Leave-One-Subject-Out CV - Subject: 5\n",
      "-----------------------------------\n",
      "Train shape: (19928, 1440), Test shape: (811, 1440)\n"
     ]
    },
    {
     "name": "stderr",
     "output_type": "stream",
     "text": [
      "d:\\clg_stuff\\ML project\\.venv\\lib\\site-packages\\xgboost\\core.py:158: UserWarning: [22:59:09] WARNING: C:\\buildkite-agent\\builds\\buildkite-windows-cpu-autoscaling-group-i-08cbc0333d8d4aae1-1\\xgboost\\xgboost-ci-windows\\src\\learner.cc:740: \n",
      "Parameters: { \"use_label_encoder\" } are not used.\n",
      "\n",
      "  warnings.warn(smsg, UserWarning)\n"
     ]
    },
    {
     "name": "stdout",
     "output_type": "stream",
     "text": [
      "Test Accuracy: 0.9137\n",
      "Precision: 0.9155\n",
      "Recall (Sensitivity): 0.9959\n",
      "Specificity: 0.1829\n",
      "F1-score: 0.9540\n",
      "False Positive Rate (FPR): 0.8171\n",
      "False Negative Rate (FNR): 0.0041\n",
      "\n",
      "Test Accuracy (sklearn): 0.9137\n",
      "\n",
      "Leave-One-Subject-Out CV - Subject: 6\n",
      "-----------------------------------\n",
      "Train shape: (19973, 1440), Test shape: (766, 1440)\n"
     ]
    },
    {
     "name": "stderr",
     "output_type": "stream",
     "text": [
      "d:\\clg_stuff\\ML project\\.venv\\lib\\site-packages\\xgboost\\core.py:158: UserWarning: [22:59:32] WARNING: C:\\buildkite-agent\\builds\\buildkite-windows-cpu-autoscaling-group-i-08cbc0333d8d4aae1-1\\xgboost\\xgboost-ci-windows\\src\\learner.cc:740: \n",
      "Parameters: { \"use_label_encoder\" } are not used.\n",
      "\n",
      "  warnings.warn(smsg, UserWarning)\n"
     ]
    },
    {
     "name": "stdout",
     "output_type": "stream",
     "text": [
      "Test Accuracy: 0.7559\n",
      "Precision: 0.7352\n",
      "Recall (Sensitivity): 0.9842\n",
      "Specificity: 0.3142\n",
      "F1-score: 0.8417\n",
      "False Positive Rate (FPR): 0.6858\n",
      "False Negative Rate (FNR): 0.0158\n",
      "\n",
      "Test Accuracy (sklearn): 0.7559\n",
      "\n",
      "Leave-One-Subject-Out CV - Subject: 7\n",
      "-----------------------------------\n",
      "Train shape: (19816, 1440), Test shape: (923, 1440)\n"
     ]
    },
    {
     "name": "stderr",
     "output_type": "stream",
     "text": [
      "d:\\clg_stuff\\ML project\\.venv\\lib\\site-packages\\xgboost\\core.py:158: UserWarning: [22:59:57] WARNING: C:\\buildkite-agent\\builds\\buildkite-windows-cpu-autoscaling-group-i-08cbc0333d8d4aae1-1\\xgboost\\xgboost-ci-windows\\src\\learner.cc:740: \n",
      "Parameters: { \"use_label_encoder\" } are not used.\n",
      "\n",
      "  warnings.warn(smsg, UserWarning)\n"
     ]
    },
    {
     "name": "stdout",
     "output_type": "stream",
     "text": [
      "Test Accuracy: 0.8072\n",
      "Precision: 0.8091\n",
      "Recall (Sensitivity): 0.9918\n",
      "Specificity: 0.0851\n",
      "F1-score: 0.8912\n",
      "False Positive Rate (FPR): 0.9149\n",
      "False Negative Rate (FNR): 0.0082\n",
      "\n",
      "Test Accuracy (sklearn): 0.8072\n",
      "\n",
      "Leave-One-Subject-Out CV - Subject: 8\n",
      "-----------------------------------\n",
      "Train shape: (19834, 1440), Test shape: (905, 1440)\n"
     ]
    },
    {
     "name": "stderr",
     "output_type": "stream",
     "text": [
      "d:\\clg_stuff\\ML project\\.venv\\lib\\site-packages\\xgboost\\core.py:158: UserWarning: [23:00:23] WARNING: C:\\buildkite-agent\\builds\\buildkite-windows-cpu-autoscaling-group-i-08cbc0333d8d4aae1-1\\xgboost\\xgboost-ci-windows\\src\\learner.cc:740: \n",
      "Parameters: { \"use_label_encoder\" } are not used.\n",
      "\n",
      "  warnings.warn(smsg, UserWarning)\n"
     ]
    },
    {
     "name": "stdout",
     "output_type": "stream",
     "text": [
      "Test Accuracy: 0.9260\n",
      "Precision: 0.9474\n",
      "Recall (Sensitivity): 0.9736\n",
      "Specificity: 0.3750\n",
      "F1-score: 0.9603\n",
      "False Positive Rate (FPR): 0.6250\n",
      "False Negative Rate (FNR): 0.0264\n",
      "\n",
      "Test Accuracy (sklearn): 0.9260\n",
      "\n",
      "Leave-One-Subject-Out CV - Subject: 9\n",
      "-----------------------------------\n",
      "Train shape: (19841, 1440), Test shape: (898, 1440)\n"
     ]
    },
    {
     "name": "stderr",
     "output_type": "stream",
     "text": [
      "d:\\clg_stuff\\ML project\\.venv\\lib\\site-packages\\xgboost\\core.py:158: UserWarning: [23:00:48] WARNING: C:\\buildkite-agent\\builds\\buildkite-windows-cpu-autoscaling-group-i-08cbc0333d8d4aae1-1\\xgboost\\xgboost-ci-windows\\src\\learner.cc:740: \n",
      "Parameters: { \"use_label_encoder\" } are not used.\n",
      "\n",
      "  warnings.warn(smsg, UserWarning)\n"
     ]
    },
    {
     "name": "stdout",
     "output_type": "stream",
     "text": [
      "Test Accuracy: 0.3942\n",
      "Precision: 0.0000\n",
      "Recall (Sensitivity): 0.0000\n",
      "Specificity: 1.0000\n",
      "F1-score: 0.0000\n",
      "False Positive Rate (FPR): 0.0000\n",
      "False Negative Rate (FNR): 1.0000\n",
      "\n",
      "Test Accuracy (sklearn): 0.3942\n",
      "\n",
      "Leave-One-Subject-Out CV - Subject: 10\n",
      "-----------------------------------\n",
      "Train shape: (19877, 1440), Test shape: (862, 1440)\n"
     ]
    },
    {
     "name": "stderr",
     "output_type": "stream",
     "text": [
      "d:\\clg_stuff\\ML project\\.venv\\lib\\site-packages\\xgboost\\core.py:158: UserWarning: [23:01:09] WARNING: C:\\buildkite-agent\\builds\\buildkite-windows-cpu-autoscaling-group-i-08cbc0333d8d4aae1-1\\xgboost\\xgboost-ci-windows\\src\\learner.cc:740: \n",
      "Parameters: { \"use_label_encoder\" } are not used.\n",
      "\n",
      "  warnings.warn(smsg, UserWarning)\n"
     ]
    },
    {
     "name": "stdout",
     "output_type": "stream",
     "text": [
      "Test Accuracy: 0.8248\n",
      "Precision: 0.8967\n",
      "Recall (Sensitivity): 0.8980\n",
      "Specificity: 0.4016\n",
      "F1-score: 0.8973\n",
      "False Positive Rate (FPR): 0.5984\n",
      "False Negative Rate (FNR): 0.1020\n",
      "\n",
      "Test Accuracy (sklearn): 0.8248\n",
      "\n",
      "Leave-One-Subject-Out CV - Subject: 11\n",
      "-----------------------------------\n",
      "Train shape: (19930, 1440), Test shape: (809, 1440)\n"
     ]
    },
    {
     "name": "stderr",
     "output_type": "stream",
     "text": [
      "d:\\clg_stuff\\ML project\\.venv\\lib\\site-packages\\xgboost\\core.py:158: UserWarning: [23:01:33] WARNING: C:\\buildkite-agent\\builds\\buildkite-windows-cpu-autoscaling-group-i-08cbc0333d8d4aae1-1\\xgboost\\xgboost-ci-windows\\src\\learner.cc:740: \n",
      "Parameters: { \"use_label_encoder\" } are not used.\n",
      "\n",
      "  warnings.warn(smsg, UserWarning)\n"
     ]
    },
    {
     "name": "stdout",
     "output_type": "stream",
     "text": [
      "Test Accuracy: 0.6452\n",
      "Precision: 0.6325\n",
      "Recall (Sensitivity): 1.0000\n",
      "Specificity: 0.0889\n",
      "F1-score: 0.7749\n",
      "False Positive Rate (FPR): 0.9111\n",
      "False Negative Rate (FNR): 0.0000\n",
      "\n",
      "Test Accuracy (sklearn): 0.6452\n",
      "\n",
      "Leave-One-Subject-Out CV - Subject: 12\n",
      "-----------------------------------\n",
      "Train shape: (19967, 1440), Test shape: (772, 1440)\n"
     ]
    },
    {
     "name": "stderr",
     "output_type": "stream",
     "text": [
      "d:\\clg_stuff\\ML project\\.venv\\lib\\site-packages\\xgboost\\core.py:158: UserWarning: [23:01:56] WARNING: C:\\buildkite-agent\\builds\\buildkite-windows-cpu-autoscaling-group-i-08cbc0333d8d4aae1-1\\xgboost\\xgboost-ci-windows\\src\\learner.cc:740: \n",
      "Parameters: { \"use_label_encoder\" } are not used.\n",
      "\n",
      "  warnings.warn(smsg, UserWarning)\n"
     ]
    },
    {
     "name": "stdout",
     "output_type": "stream",
     "text": [
      "Test Accuracy: 0.7681\n",
      "Precision: 0.7953\n",
      "Recall (Sensitivity): 0.9507\n",
      "Specificity: 0.0859\n",
      "F1-score: 0.8661\n",
      "False Positive Rate (FPR): 0.9141\n",
      "False Negative Rate (FNR): 0.0493\n",
      "\n",
      "Test Accuracy (sklearn): 0.7681\n",
      "\n",
      "Leave-One-Subject-Out CV - Subject: 13\n",
      "-----------------------------------\n",
      "Train shape: (19825, 1440), Test shape: (914, 1440)\n"
     ]
    },
    {
     "name": "stderr",
     "output_type": "stream",
     "text": [
      "d:\\clg_stuff\\ML project\\.venv\\lib\\site-packages\\xgboost\\core.py:158: UserWarning: [23:02:21] WARNING: C:\\buildkite-agent\\builds\\buildkite-windows-cpu-autoscaling-group-i-08cbc0333d8d4aae1-1\\xgboost\\xgboost-ci-windows\\src\\learner.cc:740: \n",
      "Parameters: { \"use_label_encoder\" } are not used.\n",
      "\n",
      "  warnings.warn(smsg, UserWarning)\n"
     ]
    },
    {
     "name": "stdout",
     "output_type": "stream",
     "text": [
      "Test Accuracy: 0.7877\n",
      "Precision: 0.8045\n",
      "Recall (Sensitivity): 0.9590\n",
      "Specificity: 0.1990\n",
      "F1-score: 0.8750\n",
      "False Positive Rate (FPR): 0.8010\n",
      "False Negative Rate (FNR): 0.0410\n",
      "\n",
      "Test Accuracy (sklearn): 0.7877\n",
      "\n",
      "Leave-One-Subject-Out CV - Subject: 14\n",
      "-----------------------------------\n",
      "Train shape: (19952, 1440), Test shape: (787, 1440)\n"
     ]
    },
    {
     "name": "stderr",
     "output_type": "stream",
     "text": [
      "d:\\clg_stuff\\ML project\\.venv\\lib\\site-packages\\xgboost\\core.py:158: UserWarning: [23:02:46] WARNING: C:\\buildkite-agent\\builds\\buildkite-windows-cpu-autoscaling-group-i-08cbc0333d8d4aae1-1\\xgboost\\xgboost-ci-windows\\src\\learner.cc:740: \n",
      "Parameters: { \"use_label_encoder\" } are not used.\n",
      "\n",
      "  warnings.warn(smsg, UserWarning)\n"
     ]
    },
    {
     "name": "stdout",
     "output_type": "stream",
     "text": [
      "Test Accuracy: 0.8856\n",
      "Precision: 0.8890\n",
      "Recall (Sensitivity): 0.9927\n",
      "Specificity: 0.1584\n",
      "F1-score: 0.9380\n",
      "False Positive Rate (FPR): 0.8416\n",
      "False Negative Rate (FNR): 0.0073\n",
      "\n",
      "Test Accuracy (sklearn): 0.8856\n",
      "\n",
      "Leave-One-Subject-Out CV - Subject: 15\n",
      "-----------------------------------\n",
      "Train shape: (19919, 1440), Test shape: (820, 1440)\n"
     ]
    },
    {
     "name": "stderr",
     "output_type": "stream",
     "text": [
      "d:\\clg_stuff\\ML project\\.venv\\lib\\site-packages\\xgboost\\core.py:158: UserWarning: [23:03:10] WARNING: C:\\buildkite-agent\\builds\\buildkite-windows-cpu-autoscaling-group-i-08cbc0333d8d4aae1-1\\xgboost\\xgboost-ci-windows\\src\\learner.cc:740: \n",
      "Parameters: { \"use_label_encoder\" } are not used.\n",
      "\n",
      "  warnings.warn(smsg, UserWarning)\n"
     ]
    },
    {
     "name": "stdout",
     "output_type": "stream",
     "text": [
      "Test Accuracy: 0.6854\n",
      "Precision: 0.6578\n",
      "Recall (Sensitivity): 0.9960\n",
      "Specificity: 0.2147\n",
      "F1-score: 0.7923\n",
      "False Positive Rate (FPR): 0.7853\n",
      "False Negative Rate (FNR): 0.0040\n",
      "\n",
      "Test Accuracy (sklearn): 0.6854\n",
      "\n",
      "Leave-One-Subject-Out CV - Subject: 16\n",
      "-----------------------------------\n",
      "Train shape: (19889, 1440), Test shape: (850, 1440)\n"
     ]
    },
    {
     "name": "stderr",
     "output_type": "stream",
     "text": [
      "d:\\clg_stuff\\ML project\\.venv\\lib\\site-packages\\xgboost\\core.py:158: UserWarning: [23:03:34] WARNING: C:\\buildkite-agent\\builds\\buildkite-windows-cpu-autoscaling-group-i-08cbc0333d8d4aae1-1\\xgboost\\xgboost-ci-windows\\src\\learner.cc:740: \n",
      "Parameters: { \"use_label_encoder\" } are not used.\n",
      "\n",
      "  warnings.warn(smsg, UserWarning)\n"
     ]
    },
    {
     "name": "stdout",
     "output_type": "stream",
     "text": [
      "Test Accuracy: 0.9365\n",
      "Precision: 0.9364\n",
      "Recall (Sensitivity): 0.9987\n",
      "Specificity: 0.2319\n",
      "F1-score: 0.9665\n",
      "False Positive Rate (FPR): 0.7681\n",
      "False Negative Rate (FNR): 0.0013\n",
      "\n",
      "Test Accuracy (sklearn): 0.9365\n",
      "\n",
      "Leave-One-Subject-Out CV - Subject: 17\n",
      "-----------------------------------\n",
      "Train shape: (19989, 1440), Test shape: (750, 1440)\n"
     ]
    },
    {
     "name": "stderr",
     "output_type": "stream",
     "text": [
      "d:\\clg_stuff\\ML project\\.venv\\lib\\site-packages\\xgboost\\core.py:158: UserWarning: [23:03:58] WARNING: C:\\buildkite-agent\\builds\\buildkite-windows-cpu-autoscaling-group-i-08cbc0333d8d4aae1-1\\xgboost\\xgboost-ci-windows\\src\\learner.cc:740: \n",
      "Parameters: { \"use_label_encoder\" } are not used.\n",
      "\n",
      "  warnings.warn(smsg, UserWarning)\n"
     ]
    },
    {
     "name": "stdout",
     "output_type": "stream",
     "text": [
      "Test Accuracy: 0.8027\n",
      "Precision: 0.8129\n",
      "Recall (Sensitivity): 0.9691\n",
      "Specificity: 0.2216\n",
      "F1-score: 0.8842\n",
      "False Positive Rate (FPR): 0.7784\n",
      "False Negative Rate (FNR): 0.0309\n",
      "\n",
      "Test Accuracy (sklearn): 0.8027\n",
      "\n",
      "Leave-One-Subject-Out CV - Subject: 18\n",
      "-----------------------------------\n",
      "Train shape: (19828, 1440), Test shape: (911, 1440)\n"
     ]
    },
    {
     "name": "stderr",
     "output_type": "stream",
     "text": [
      "d:\\clg_stuff\\ML project\\.venv\\lib\\site-packages\\xgboost\\core.py:158: UserWarning: [23:04:24] WARNING: C:\\buildkite-agent\\builds\\buildkite-windows-cpu-autoscaling-group-i-08cbc0333d8d4aae1-1\\xgboost\\xgboost-ci-windows\\src\\learner.cc:740: \n",
      "Parameters: { \"use_label_encoder\" } are not used.\n",
      "\n",
      "  warnings.warn(smsg, UserWarning)\n"
     ]
    },
    {
     "name": "stdout",
     "output_type": "stream",
     "text": [
      "Test Accuracy: 0.8540\n",
      "Precision: 0.8570\n",
      "Recall (Sensitivity): 0.9866\n",
      "Specificity: 0.2500\n",
      "F1-score: 0.9172\n",
      "False Positive Rate (FPR): 0.7500\n",
      "False Negative Rate (FNR): 0.0134\n",
      "\n",
      "Test Accuracy (sklearn): 0.8540\n",
      "\n",
      "Leave-One-Subject-Out CV - Subject: 19\n",
      "-----------------------------------\n",
      "Train shape: (19954, 1440), Test shape: (785, 1440)\n"
     ]
    },
    {
     "name": "stderr",
     "output_type": "stream",
     "text": [
      "d:\\clg_stuff\\ML project\\.venv\\lib\\site-packages\\xgboost\\core.py:158: UserWarning: [23:04:49] WARNING: C:\\buildkite-agent\\builds\\buildkite-windows-cpu-autoscaling-group-i-08cbc0333d8d4aae1-1\\xgboost\\xgboost-ci-windows\\src\\learner.cc:740: \n",
      "Parameters: { \"use_label_encoder\" } are not used.\n",
      "\n",
      "  warnings.warn(smsg, UserWarning)\n"
     ]
    },
    {
     "name": "stdout",
     "output_type": "stream",
     "text": [
      "Test Accuracy: 0.6471\n",
      "Precision: 0.6252\n",
      "Recall (Sensitivity): 0.9935\n",
      "Specificity: 0.1569\n",
      "F1-score: 0.7674\n",
      "False Positive Rate (FPR): 0.8431\n",
      "False Negative Rate (FNR): 0.0065\n",
      "\n",
      "Test Accuracy (sklearn): 0.6471\n",
      "\n",
      "Leave-One-Subject-Out CV - Subject: 20\n",
      "-----------------------------------\n",
      "Train shape: (19880, 1440), Test shape: (859, 1440)\n"
     ]
    },
    {
     "name": "stderr",
     "output_type": "stream",
     "text": [
      "d:\\clg_stuff\\ML project\\.venv\\lib\\site-packages\\xgboost\\core.py:158: UserWarning: [23:05:18] WARNING: C:\\buildkite-agent\\builds\\buildkite-windows-cpu-autoscaling-group-i-08cbc0333d8d4aae1-1\\xgboost\\xgboost-ci-windows\\src\\learner.cc:740: \n",
      "Parameters: { \"use_label_encoder\" } are not used.\n",
      "\n",
      "  warnings.warn(smsg, UserWarning)\n"
     ]
    },
    {
     "name": "stdout",
     "output_type": "stream",
     "text": [
      "Test Accuracy: 0.7590\n",
      "Precision: 0.7416\n",
      "Recall (Sensitivity): 0.9862\n",
      "Specificity: 0.2893\n",
      "F1-score: 0.8466\n",
      "False Positive Rate (FPR): 0.7107\n",
      "False Negative Rate (FNR): 0.0138\n",
      "\n",
      "Test Accuracy (sklearn): 0.7590\n",
      "\n",
      "Leave-One-Subject-Out CV - Subject: 21\n",
      "-----------------------------------\n",
      "Train shape: (19833, 1440), Test shape: (906, 1440)\n"
     ]
    },
    {
     "name": "stderr",
     "output_type": "stream",
     "text": [
      "d:\\clg_stuff\\ML project\\.venv\\lib\\site-packages\\xgboost\\core.py:158: UserWarning: [23:05:44] WARNING: C:\\buildkite-agent\\builds\\buildkite-windows-cpu-autoscaling-group-i-08cbc0333d8d4aae1-1\\xgboost\\xgboost-ci-windows\\src\\learner.cc:740: \n",
      "Parameters: { \"use_label_encoder\" } are not used.\n",
      "\n",
      "  warnings.warn(smsg, UserWarning)\n"
     ]
    },
    {
     "name": "stdout",
     "output_type": "stream",
     "text": [
      "Test Accuracy: 0.8609\n",
      "Precision: 0.8693\n",
      "Recall (Sensitivity): 0.9801\n",
      "Specificity: 0.2745\n",
      "F1-score: 0.9213\n",
      "False Positive Rate (FPR): 0.7255\n",
      "False Negative Rate (FNR): 0.0199\n",
      "\n",
      "Test Accuracy (sklearn): 0.8609\n",
      "\n",
      "Leave-One-Subject-Out CV - Subject: 22\n",
      "-----------------------------------\n",
      "Train shape: (20030, 1440), Test shape: (709, 1440)\n"
     ]
    },
    {
     "name": "stderr",
     "output_type": "stream",
     "text": [
      "d:\\clg_stuff\\ML project\\.venv\\lib\\site-packages\\xgboost\\core.py:158: UserWarning: [23:06:11] WARNING: C:\\buildkite-agent\\builds\\buildkite-windows-cpu-autoscaling-group-i-08cbc0333d8d4aae1-1\\xgboost\\xgboost-ci-windows\\src\\learner.cc:740: \n",
      "Parameters: { \"use_label_encoder\" } are not used.\n",
      "\n",
      "  warnings.warn(smsg, UserWarning)\n"
     ]
    },
    {
     "name": "stdout",
     "output_type": "stream",
     "text": [
      "Test Accuracy: 0.7856\n",
      "Precision: 0.7946\n",
      "Recall (Sensitivity): 0.9745\n",
      "Specificity: 0.1429\n",
      "F1-score: 0.8754\n",
      "False Positive Rate (FPR): 0.8571\n",
      "False Negative Rate (FNR): 0.0255\n",
      "\n",
      "Test Accuracy (sklearn): 0.7856\n",
      "\n",
      "Leave-One-Subject-Out CV - Subject: 23\n",
      "-----------------------------------\n",
      "Train shape: (19903, 1440), Test shape: (836, 1440)\n"
     ]
    },
    {
     "name": "stderr",
     "output_type": "stream",
     "text": [
      "d:\\clg_stuff\\ML project\\.venv\\lib\\site-packages\\xgboost\\core.py:158: UserWarning: [23:06:37] WARNING: C:\\buildkite-agent\\builds\\buildkite-windows-cpu-autoscaling-group-i-08cbc0333d8d4aae1-1\\xgboost\\xgboost-ci-windows\\src\\learner.cc:740: \n",
      "Parameters: { \"use_label_encoder\" } are not used.\n",
      "\n",
      "  warnings.warn(smsg, UserWarning)\n"
     ]
    },
    {
     "name": "stdout",
     "output_type": "stream",
     "text": [
      "Test Accuracy: 0.8828\n",
      "Precision: 0.8839\n",
      "Recall (Sensitivity): 0.9959\n",
      "Specificity: 0.1364\n",
      "F1-score: 0.9365\n",
      "False Positive Rate (FPR): 0.8636\n",
      "False Negative Rate (FNR): 0.0041\n",
      "\n",
      "Test Accuracy (sklearn): 0.8828\n",
      "\n",
      "Leave-One-Subject-Out CV - Subject: 24\n",
      "-----------------------------------\n",
      "Train shape: (19848, 1440), Test shape: (891, 1440)\n"
     ]
    },
    {
     "name": "stderr",
     "output_type": "stream",
     "text": [
      "d:\\clg_stuff\\ML project\\.venv\\lib\\site-packages\\xgboost\\core.py:158: UserWarning: [23:07:04] WARNING: C:\\buildkite-agent\\builds\\buildkite-windows-cpu-autoscaling-group-i-08cbc0333d8d4aae1-1\\xgboost\\xgboost-ci-windows\\src\\learner.cc:740: \n",
      "Parameters: { \"use_label_encoder\" } are not used.\n",
      "\n",
      "  warnings.warn(smsg, UserWarning)\n"
     ]
    },
    {
     "name": "stdout",
     "output_type": "stream",
     "text": [
      "Test Accuracy: 0.8788\n",
      "Precision: 0.8834\n",
      "Recall (Sensitivity): 0.9896\n",
      "Specificity: 0.2000\n",
      "F1-score: 0.9335\n",
      "False Positive Rate (FPR): 0.8000\n",
      "False Negative Rate (FNR): 0.0104\n",
      "\n",
      "Test Accuracy (sklearn): 0.8788\n",
      "\n",
      "Leave-One-Subject-Out CV - Subject: 25\n",
      "-----------------------------------\n",
      "Train shape: (20020, 1440), Test shape: (719, 1440)\n"
     ]
    },
    {
     "name": "stderr",
     "output_type": "stream",
     "text": [
      "d:\\clg_stuff\\ML project\\.venv\\lib\\site-packages\\xgboost\\core.py:158: UserWarning: [23:07:30] WARNING: C:\\buildkite-agent\\builds\\buildkite-windows-cpu-autoscaling-group-i-08cbc0333d8d4aae1-1\\xgboost\\xgboost-ci-windows\\src\\learner.cc:740: \n",
      "Parameters: { \"use_label_encoder\" } are not used.\n",
      "\n",
      "  warnings.warn(smsg, UserWarning)\n"
     ]
    },
    {
     "name": "stdout",
     "output_type": "stream",
     "text": [
      "Test Accuracy: 0.7121\n",
      "Precision: 0.7072\n",
      "Recall (Sensitivity): 0.9899\n",
      "Specificity: 0.1062\n",
      "F1-score: 0.8250\n",
      "False Positive Rate (FPR): 0.8938\n",
      "False Negative Rate (FNR): 0.0101\n",
      "\n",
      "Test Accuracy (sklearn): 0.7121\n",
      "\n"
     ]
    }
   ],
   "source": [
    "import xgboost as xgb\n",
    "from sklearn.metrics import confusion_matrix, accuracy_score, precision_score, recall_score, f1_score\n",
    "import numpy as np\n",
    "\n",
    "def combine_epochs(signals, labels):\n",
    "    \"\"\"\n",
    "    Given:\n",
    "      signals: numpy array of shape (n_epochs, 2, 240)\n",
    "      labels: numpy array of shape (n_epochs,) or (n_epochs, 1)\n",
    "      \n",
    "    Returns:\n",
    "      combined_signals: numpy array of shape (n_epochs-2, 3*2*240)\n",
    "      combined_labels: numpy array of shape (n_epochs-2,)\n",
    "    \n",
    "    For each epoch index i (starting from 2), we combine:\n",
    "       - signals[i-2]  (previous-to-previous epoch)\n",
    "       - signals[i-1]  (previous epoch)\n",
    "       - signals[i]    (current epoch)\n",
    "    and use the label from the current epoch.\n",
    "    \"\"\"\n",
    "    new_signals = []\n",
    "    new_labels = []\n",
    "    # Ensure labels are 1D\n",
    "    labels = labels.ravel()\n",
    "    for i in range(2, signals.shape[0]):\n",
    "        # Flatten each epoch (2,240) to 480 and concatenate three of them:\n",
    "        combined = np.concatenate((\n",
    "            signals[i-2].reshape(-1),\n",
    "            signals[i-1].reshape(-1),\n",
    "            signals[i].reshape(-1)\n",
    "        ))\n",
    "        new_signals.append(combined)\n",
    "        new_labels.append(labels[i])\n",
    "    return np.array(new_signals), np.array(new_labels)\n",
    "\n",
    "quant_dict = {}\n",
    "\n",
    "# LOSO-CV loop\n",
    "for i, data in enumerate(binary_subject_wise_data):\n",
    "    print(f\"Leave-One-Subject-Out CV - Subject: {i+1}\\n-----------------------------------\")\n",
    "    \n",
    "    # Leave current subject for testing; all others for training.\n",
    "    train_data = [x for j, x in enumerate(binary_subject_wise_data) if j != i]\n",
    "    test_data = binary_subject_wise_data[i]\n",
    "\n",
    "    # For training, combine epochs from each training subject:\n",
    "    X_train_list, y_train_list = [], []\n",
    "    for subject in train_data:\n",
    "        signals = subject[0]   # shape: (n_epochs, 2, 240)\n",
    "        labels = subject[1]    # shape: (n_epochs, 1) or (n_epochs,)\n",
    "        X_subj, y_subj = combine_epochs(signals, labels)\n",
    "        X_train_list.append(X_subj)\n",
    "        y_train_list.append(y_subj)\n",
    "    X_train = np.vstack(X_train_list)\n",
    "    y_train = np.hstack(y_train_list)\n",
    "\n",
    "    # For the test subject, combine epochs:\n",
    "    signals_test = test_data[0]   # shape: (n_epochs, 2, 240)\n",
    "    labels_test = test_data[1]\n",
    "    X_test, y_test = combine_epochs(signals_test, labels_test)\n",
    "\n",
    "    print(f\"Train shape: {X_train.shape}, Test shape: {X_test.shape}\")\n",
    "    \n",
    "    # Train XGBoost classifier\n",
    "    model = xgb.XGBClassifier(\n",
    "        objective=\"binary:logistic\", \n",
    "        eval_metric=\"logloss\", \n",
    "        use_label_encoder=False,\n",
    "        max_depth=3,\n",
    "        learning_rate=0.05,\n",
    "        n_estimators=300\n",
    "    )\n",
    "    model.fit(X_train, y_train)\n",
    "\n",
    "    # Predictions and metrics\n",
    "    y_pred = model.predict(X_test)\n",
    "    tn, fp, fn, tp = confusion_matrix(y_test, y_pred).ravel()\n",
    "    accuracy_val = (tp + tn) / (tp + tn + fp + fn)\n",
    "    precision_val = tp / (tp + fp) if (tp + fp) != 0 else 0\n",
    "    recall_val = tp / (tp + fn) if (tp + fn) != 0 else 0\n",
    "    specificity_val = tn / (tn + fp) if (tn + fp) != 0 else 0\n",
    "    f1_val = 2 * (precision_val * recall_val) / (precision_val + recall_val) if (precision_val + recall_val) != 0 else 0\n",
    "    fpr_val = fp / (fp + tn) if (fp + tn) != 0 else 0\n",
    "    fnr_val = fn / (tp + fn) if (tp + fn) != 0 else 0\n",
    "\n",
    "    print(f\"Test Accuracy: {accuracy_val:.4f}\")\n",
    "    print(f\"Precision: {precision_val:.4f}\")\n",
    "    print(f\"Recall (Sensitivity): {recall_val:.4f}\")\n",
    "    print(f\"Specificity: {specificity_val:.4f}\")\n",
    "    print(f\"F1-score: {f1_val:.4f}\")\n",
    "    print(f\"False Positive Rate (FPR): {fpr_val:.4f}\")\n",
    "    print(f\"False Negative Rate (FNR): {fnr_val:.4f}\\n\")\n",
    "    print(f\"Test Accuracy (sklearn): {accuracy_score(y_test, y_pred):.4f}\\n\")\n",
    "\n",
    "    quant_dict[i] = {\n",
    "        \"accuracy\": accuracy_val,\n",
    "        \"precision\": precision_val,\n",
    "        \"recall\": recall_val,\n",
    "        \"specificity\": specificity_val,\n",
    "        \"f1\": f1_val,\n",
    "        \"fpr\": fpr_val,\n",
    "        \"fnr\": fnr_val\n",
    "    }\n"
   ]
  },
  {
   "cell_type": "code",
   "execution_count": 13,
   "metadata": {},
   "outputs": [
    {
     "data": {
      "text/plain": [
       "(0.25583358707558324, 0.7925138248841168)"
      ]
     },
     "execution_count": 13,
     "metadata": {},
     "output_type": "execute_result"
    }
   ],
   "source": [
    "acc = 0\n",
    "spec = 0\n",
    "for i in range(len(quant_dict)):\n",
    "    acc += quant_dict[i][\"accuracy\"]\n",
    "    spec += quant_dict[i][\"specificity\"]\n",
    "spec/len(quant_dict), acc/len(quant_dict)"
   ]
  },
  {
   "cell_type": "code",
   "execution_count": null,
   "metadata": {},
   "outputs": [],
   "source": []
  }
 ],
 "metadata": {
  "kernelspec": {
   "display_name": ".venv",
   "language": "python",
   "name": "python3"
  },
  "language_info": {
   "codemirror_mode": {
    "name": "ipython",
    "version": 3
   },
   "file_extension": ".py",
   "mimetype": "text/x-python",
   "name": "python",
   "nbconvert_exporter": "python",
   "pygments_lexer": "ipython3",
   "version": "3.10.11"
  }
 },
 "nbformat": 4,
 "nbformat_minor": 2
}
